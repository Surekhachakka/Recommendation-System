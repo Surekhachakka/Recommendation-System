{
 "cells": [
  {
   "cell_type": "code",
   "execution_count": 3,
   "id": "a9566260",
   "metadata": {},
   "outputs": [
    {
     "name": "stdout",
     "output_type": "stream",
     "text": [
      "Requirement already satisfied: pandas in c:\\users\\venka\\anaconda3\\new folder\\lib\\site-packages (1.5.3)\n",
      "Requirement already satisfied: scikit-learn in c:\\users\\venka\\anaconda3\\new folder\\lib\\site-packages (1.2.1)\n",
      "Requirement already satisfied: python-dateutil>=2.8.1 in c:\\users\\venka\\anaconda3\\new folder\\lib\\site-packages (from pandas) (2.8.2)\n",
      "Requirement already satisfied: numpy>=1.21.0 in c:\\users\\venka\\anaconda3\\new folder\\lib\\site-packages (from pandas) (1.26.4)\n",
      "Requirement already satisfied: pytz>=2020.1 in c:\\users\\venka\\anaconda3\\new folder\\lib\\site-packages (from pandas) (2022.7)\n",
      "Requirement already satisfied: joblib>=1.1.1 in c:\\users\\venka\\anaconda3\\new folder\\lib\\site-packages (from scikit-learn) (1.1.1)\n",
      "Requirement already satisfied: scipy>=1.3.2 in c:\\users\\venka\\anaconda3\\new folder\\lib\\site-packages (from scikit-learn) (1.15.2)\n",
      "Requirement already satisfied: threadpoolctl>=2.0.0 in c:\\users\\venka\\anaconda3\\new folder\\lib\\site-packages (from scikit-learn) (2.2.0)\n",
      "Requirement already satisfied: six>=1.5 in c:\\users\\venka\\anaconda3\\new folder\\lib\\site-packages (from python-dateutil>=2.8.1->pandas) (1.16.0)\n"
     ]
    }
   ],
   "source": [
    "# Step 1: Install required libraries\n",
    "!pip install pandas scikit-learn\n"
   ]
  },
  {
   "cell_type": "code",
   "execution_count": 4,
   "id": "5a6db5a3",
   "metadata": {},
   "outputs": [],
   "source": [
    "# Step 2: Import necessary libraries\n",
    "import pandas as pd\n",
    "from sklearn.metrics.pairwise import cosine_similarity\n"
   ]
  },
  {
   "cell_type": "code",
   "execution_count": 5,
   "id": "6aecd76e",
   "metadata": {},
   "outputs": [
    {
     "name": "stdout",
     "output_type": "stream",
     "text": [
      "Sample Dataset:\n",
      "   user_id  movie_id  rating\n",
      "0        1        10       5\n",
      "1        1        20       3\n",
      "2        1        30       4\n",
      "3        2        10       4\n",
      "4        2        30       5\n",
      "5        3        10       2\n",
      "6        3        20       5\n",
      "7        4        30       4\n"
     ]
    }
   ],
   "source": [
    "# Step 3: Sample Ratings Dataset (you can replace this with a CSV later)\n",
    "ratings_dict = {\n",
    "    'user_id': [1, 1, 1, 2, 2, 3, 3, 4],\n",
    "    'movie_id': [10, 20, 30, 10, 30, 10, 20, 30],\n",
    "    'rating': [5, 3, 4, 4, 5, 2, 5, 4]\n",
    "}\n",
    "df = pd.DataFrame(ratings_dict)\n",
    "print(\"Sample Dataset:\")\n",
    "print(df)\n"
   ]
  },
  {
   "cell_type": "code",
   "execution_count": 6,
   "id": "bd6c4817",
   "metadata": {},
   "outputs": [
    {
     "name": "stdout",
     "output_type": "stream",
     "text": [
      "\n",
      "User-Item Matrix:\n",
      "movie_id   10   20   30\n",
      "user_id                \n",
      "1         5.0  3.0  4.0\n",
      "2         4.0  0.0  5.0\n",
      "3         2.0  5.0  0.0\n",
      "4         0.0  0.0  4.0\n"
     ]
    }
   ],
   "source": [
    "# Step 4: Create a user-item matrix\n",
    "user_item_matrix = df.pivot_table(index='user_id', columns='movie_id', values='rating').fillna(0)\n",
    "print(\"\\nUser-Item Matrix:\")\n",
    "print(user_item_matrix)\n"
   ]
  },
  {
   "cell_type": "code",
   "execution_count": 7,
   "id": "4df5cedf",
   "metadata": {},
   "outputs": [
    {
     "name": "stdout",
     "output_type": "stream",
     "text": [
      "\n",
      "User Similarity Matrix (Cosine Similarity):\n",
      "user_id     1     2     3     4\n",
      "user_id                        \n",
      "1        1.00  0.88  0.66  0.57\n",
      "2        0.88  1.00  0.23  0.78\n",
      "3        0.66  0.23  1.00  0.00\n",
      "4        0.57  0.78  0.00  1.00\n"
     ]
    }
   ],
   "source": [
    "# Step 5: Calculate user-to-user cosine similarity\n",
    "user_sim = cosine_similarity(user_item_matrix)\n",
    "user_sim_df = pd.DataFrame(user_sim, index=user_item_matrix.index, columns=user_item_matrix.index)\n",
    "print(\"\\nUser Similarity Matrix (Cosine Similarity):\")\n",
    "print(user_sim_df.round(2))\n"
   ]
  },
  {
   "cell_type": "code",
   "execution_count": 9,
   "id": "5a04bc0e",
   "metadata": {},
   "outputs": [
    {
     "name": "stdout",
     "output_type": "stream",
     "text": [
      "\n",
      "Top Movie Recommendations for User 1 (based on similar User 2):\n",
      "Series([], Name: 2, dtype: float64)\n"
     ]
    }
   ],
   "source": [
    "# Step 6: Make a recommendation for a target user (e.g., user 1)\n",
    "target_user = 1\n",
    "similar_users = user_sim_df[target_user].sort_values(ascending=False)[1:]\n",
    "\n",
    "# Get the top similar user's ratings\n",
    "top_user = similar_users.index[0]\n",
    "recommend_movies = user_item_matrix.loc[top_user]\n",
    "recommend_movies = recommend_movies[recommend_movies > 0]\n",
    "\n",
    "# Remove movies already rated by the target user\n",
    "user_seen = user_item_matrix.loc[target_user]\n",
    "unseen_movies = recommend_movies[~recommend_movies.index.isin(user_seen[user_seen > 0].index)]\n",
    "\n",
    "print(f\"\\nTop Movie Recommendations for User {target_user} (based on similar User {top_user}):\")\n",
    "print(unseen_movies.sort_values(ascending=False))\n"
   ]
  },
  {
   "cell_type": "code",
   "execution_count": null,
   "id": "311af86e",
   "metadata": {},
   "outputs": [],
   "source": []
  }
 ],
 "metadata": {
  "kernelspec": {
   "display_name": "Python 3 (ipykernel)",
   "language": "python",
   "name": "python3"
  },
  "language_info": {
   "codemirror_mode": {
    "name": "ipython",
    "version": 3
   },
   "file_extension": ".py",
   "mimetype": "text/x-python",
   "name": "python",
   "nbconvert_exporter": "python",
   "pygments_lexer": "ipython3",
   "version": "3.10.9"
  }
 },
 "nbformat": 4,
 "nbformat_minor": 5
}
